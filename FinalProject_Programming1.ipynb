{
 "cells": [
  {
   "cell_type": "code",
   "execution_count": null,
   "id": "2975f451",
   "metadata": {},
   "outputs": [],
   "source": [
    "# Importing necessary libraries\n",
    "import pandas as pd\n",
    "import requests\n",
    "from requests.auth import HTTPBasicAuth\n",
    "from zipfile import ZipFile\n",
    "import io\n",
    "import urllib3\n",
    "import plotly.express as px\n",
    "import plotly.graph_objects as go\n",
    "from plotly.subplots import make_subplots\n",
    "import panel as pn\n",
    "from panel.interact import interact, interactive, fixed, interact_manual\n",
    "from panel import widgets\n",
    "pn.extension('plotly')"
   ]
  },
  {
   "cell_type": "markdown",
   "id": "5da2dd07",
   "metadata": {},
   "source": [
    "# Literature\n",
    "Air quality with covid cases in Mumbai, India\n",
    "https://agupubs.onlinelibrary.wiley.com/doi/10.1029/2021GH000383\n",
    "\n",
    "\n",
    "The role of air pollution (PM and NO2) in COVID-19 spread and lethality: A systematic review\n",
    "https://www.ncbi.nlm.nih.gov/pmc/articles/PMC7444490/\n"
   ]
  },
  {
   "cell_type": "code",
   "execution_count": null,
   "id": "dcc972b2",
   "metadata": {},
   "outputs": [],
   "source": [
    "# Disables the warning when downloading\n",
    "urllib3.disable_warnings(urllib3.exceptions.InsecureRequestWarning)\n",
    "\n",
    "def zipped_downloader(url):\n",
    "    \"\"\" Downloads the files necessary for the analysis, unzips and creates a pandas dataframe \"\"\"\n",
    "    \n",
    "    response = requests.get(url, auth=HTTPBasicAuth('user', 'pass'), stream=True, verify=False)\n",
    "    with ZipFile(io.BytesIO(response.content)) as myzip: # Unzips the file\n",
    "        with myzip.open(myzip.namelist()[0]) as myfile: # Open first file in folder\n",
    "            df = pd.read_csv(myfile) # Reads csv and creates a pandas dataframe\n",
    "            return df      \n",
    "\n",
    "# Download of PM2.5 FRM/FEM Mass (88101) from 'aqs.epa.gov'\n",
    "PM2_5_Mass_2020 = zipped_downloader('https://aqs.epa.gov/aqsweb/airdata/daily_88101_2020.zip')\n",
    "PM2_5_Mass_2021 = zipped_downloader('https://aqs.epa.gov/aqsweb/airdata/daily_88101_2021.zip')\n",
    "# Downloads nytimes covid-19 data\n",
    "covid19_usa = pd.read_csv('https://raw.githubusercontent.com/nytimes/covid-19-data/master/us-states.csv')"
   ]
  },
  {
   "cell_type": "code",
   "execution_count": null,
   "id": "81faff2c",
   "metadata": {},
   "outputs": [],
   "source": [
    "PM2_5_Mass_2021.columns"
   ]
  },
  {
   "cell_type": "markdown",
   "id": "7c9ab8fd",
   "metadata": {},
   "source": [
    "## Note about covid data\n",
    "The covid 19 file is updated on a daily basis, if the file isn't reshaped or deleted this shouldn't be a problem, but in case it goes wrong, please download the dataset at this [google drive](https://drive.google.com/file/d/1Po0Uk1t_jk_5NGeW_MQAKyES_jv_t-zk/view?usp=sharing)."
   ]
  },
  {
   "cell_type": "code",
   "execution_count": null,
   "id": "e7d6ff70",
   "metadata": {},
   "outputs": [],
   "source": [
    "# Select only the columns of interest\n",
    "PM2_5_Mass_2021 = PM2_5_Mass_2021[['State Name', 'Date Local', 'AQI']]\n",
    "PM2_5_Mass_2020 = PM2_5_Mass_2020[['State Name', 'Date Local', 'AQI']]\n",
    "# covid19_usa = covid19_usa.drop(['fips', 'deaths'], axis = 1)\n",
    "covid19_usa = covid19_usa.drop(columns=['fips'])"
   ]
  },
  {
   "cell_type": "code",
   "execution_count": null,
   "id": "8edba432",
   "metadata": {},
   "outputs": [],
   "source": [
    "# Set columns to correct data type\n",
    "PM2_5_Mass_2020['Date Local'] = pd.to_datetime(PM2_5_Mass_2020['Date Local'])\n",
    "PM2_5_Mass_2021['Date Local'] = pd.to_datetime(PM2_5_Mass_2021['Date Local'])\n",
    "covid19_usa['date'] = pd.to_datetime(covid19_usa['date'])"
   ]
  },
  {
   "cell_type": "code",
   "execution_count": null,
   "id": "869f131e",
   "metadata": {},
   "outputs": [],
   "source": [
    "# No missing data for the selected columns in the covid dataset\n",
    "# Both air quality files have several rows with missing data\n",
    "\n",
    "# The rows with NaN's are dropped\n",
    "PM2_5_Mass_2020 = PM2_5_Mass_2020.dropna()\n",
    "PM2_5_Mass_2021 = PM2_5_Mass_2021.dropna()"
   ]
  },
  {
   "cell_type": "code",
   "execution_count": null,
   "id": "f55a9147",
   "metadata": {},
   "outputs": [],
   "source": [
    "# The missing data was removed without problem\n",
    "print(covid19_usa.isnull().sum())\n",
    "print(PM2_5_Mass_2020.isnull().sum())\n",
    "print(PM2_5_Mass_2021.isnull().sum())"
   ]
  },
  {
   "cell_type": "code",
   "execution_count": null,
   "id": "4a00625c",
   "metadata": {},
   "outputs": [],
   "source": [
    "print(f\"Covid, Begin:{covid19_usa['date'].min()}, End:{covid19_usa['date'].max()}\")\n",
    "print(f\"PM2.5 Mass 2020, Begin:{PM2_5_Mass_2020['Date Local'].min()}, End:{PM2_5_Mass_2020['Date Local'].max()}\")\n",
    "print(f\"PM2.5 Mass 2021, Begin:{PM2_5_Mass_2021['Date Local'].min()}, End:{PM2_5_Mass_2021['Date Local'].max()}\")\n",
    "print('The covid dataset spans from 2020-2022, the PN2.5 mass data is from 2020 until nov 2021')"
   ]
  },
  {
   "cell_type": "code",
   "execution_count": null,
   "id": "033640c9",
   "metadata": {},
   "outputs": [],
   "source": [
    "# Concatenates the 2020 and 2021 files\n",
    "PM2_5_Mass_20et21 = pd.concat([PM2_5_Mass_2020, PM2_5_Mass_2021], axis=0)\n",
    "# Renames the column to date so both dataframes have the same name for the same column\n",
    "PM2_5_Mass_20et21.rename(columns = {'Date Local':'date', 'State Name':'state'}, inplace=True)\n",
    "\n",
    "# From the covid dataset,only years 2020 and 2021 are necessary\n",
    "covid19_usa_20et21 = covid19_usa[(covid19_usa['date'].dt.year >= 2020) & (covid19_usa['date'].dt.year <= 2021)]"
   ]
  },
  {
   "cell_type": "code",
   "execution_count": null,
   "id": "0896f6c5",
   "metadata": {},
   "outputs": [],
   "source": [
    "# To quickly take a look at the covid cases and death, the following plots were generated \n",
    "def quickliner(df, query):\n",
    "    \"\"\" Add doctring later , y = query, which can be 'cases' or deaths \"\"\"\n",
    "    fig = px.line(df, x=\"date\", y=query, title=f'Covid {query} in the USA', color='state')\n",
    "    return fig\n",
    "\n",
    "quickliner(covid19_usa_20et21, \"cases\")"
   ]
  },
  {
   "cell_type": "code",
   "execution_count": null,
   "id": "945ba6ce",
   "metadata": {},
   "outputs": [],
   "source": [
    "# quickliner(covid19_usa, \"deaths\")"
   ]
  },
  {
   "cell_type": "markdown",
   "id": "4c1283e5",
   "metadata": {},
   "source": [
    "Looking at the above plot, a few states immediately stand out, such as California, Texas, Florida and New York. Both of these have the largest number of covid cases and deaths. Considering however the number of states in the USA, this line plot might be useful for a simple glance, however the dataset needs to be further analysed to come to concrete conclusions."
   ]
  },
  {
   "cell_type": "code",
   "execution_count": null,
   "id": "39bd8431",
   "metadata": {},
   "outputs": [],
   "source": [
    "PM2_5_Mass_20et21"
   ]
  },
  {
   "cell_type": "code",
   "execution_count": null,
   "id": "5d4cf994",
   "metadata": {},
   "outputs": [],
   "source": [
    "# To quickly take a look at the covid cases and death, the following plots were generated \n",
    "def quickliner(df):\n",
    "    \"\"\" Add doctring later , y = query, which can be 'cases' or deaths \"\"\"\n",
    "    fig = px.scatter(df, x=\"date\", y='AQI', title=f'Air quality in USA', color='state')\n",
    "    return fig\n",
    "\n",
    "quickliner(PM2_5_Mass_20et21)"
   ]
  },
  {
   "cell_type": "markdown",
   "id": "aaa4a1a1",
   "metadata": {},
   "source": [
    "The scatter plot for air quality gives close to no information at all. Nevada, Washington and California seem to stand out a little more then the rest."
   ]
  },
  {
   "cell_type": "code",
   "execution_count": null,
   "id": "bb807d1a",
   "metadata": {
    "scrolled": false
   },
   "outputs": [],
   "source": [
    "\n",
    "def monthCalc_weather(df):\n",
    "#     Makes list with states and \n",
    "    states = PM2_5_Mass_20et21['state'].unique()\n",
    "    df_final = pd.DataFrame(columns = df.columns)\n",
    "\n",
    "    for state in states:\n",
    "        df_state = df[df['state'] == state]\n",
    "        month_avg = df_state.groupby(pd.PeriodIndex(df_state['date'], freq=\"M\"))['AQI'].mean().reset_index()\n",
    "        month_avg = month_avg.assign(state=state)\n",
    "        df_final = df_final.append(month_avg)\n",
    "\n",
    "    return df_final.reset_index(drop=True)\n",
    "    \n",
    "monthlyWeather = monthCalc_weather(PM2_5_Mass_20et21)\n",
    "\n",
    "def monthCalc_covid(df):\n",
    "    states = df['state'].unique()\n",
    "    df_final = pd.DataFrame(columns = df.columns)\n",
    "\n",
    "    for state in states:\n",
    "        df_state = df[df['state'] == state]\n",
    "        month_avg = df_state.groupby(pd.PeriodIndex(df_state['date'], freq=\"M\"))[['cases', 'deaths']].sum().reset_index()\n",
    "        month_avg = month_avg.assign(state=state)\n",
    "        df_final = df_final.append(month_avg)\n",
    "\n",
    "    return df_final.reset_index(drop=True)\n",
    "\n",
    "monthlyCovid = monthCalc_covid(covid19_usa_20et21)"
   ]
  },
  {
   "cell_type": "code",
   "execution_count": null,
   "id": "ac7ddea2",
   "metadata": {},
   "outputs": [],
   "source": [
    "# The output of the above functions is in period format, which cannot be plotted. This format cannot be converted\n",
    "# to datetime, however converting it to a string first does seem to work.\n",
    "# Weather data\n",
    "monthlyWeather['date'] = monthlyWeather['date'].astype(str)\n",
    "monthlyWeather['date'] = pd.to_datetime(monthlyWeather['date'])\n",
    "# Covid data\n",
    "monthlyCovid['date'] = monthlyCovid['date'].astype(str)\n",
    "monthlyCovid['date'] = pd.to_datetime(monthlyCovid['date'])"
   ]
  },
  {
   "cell_type": "code",
   "execution_count": null,
   "id": "51c94ff9",
   "metadata": {},
   "outputs": [],
   "source": [
    "# Creates a variable with the merged Covid and Weather datasets\n",
    "CW_Merge = pd.merge(monthlyWeather, monthlyCovid,  how='left', left_on=['state','date'], right_on = ['state','date'])\n",
    "# There seem to have appeared NANs in the new variable, after manual inspection, these seem\n",
    "# to be  values already missing before the merge, thus they will be removed.\n",
    "# CW_Merge = CW_Merge[CW_Merge.isna().any(axis=1)] # used to view rows with missing values\n",
    "CW_Merge = CW_Merge[~CW_Merge.isna().any(axis=1)]\n",
    "# Converts columns into the correct datatype as cases and deaths are both strings at the moment\n",
    "CW_Merge[['AQI', 'cases', 'deaths']] = CW_Merge[['AQI', 'cases', 'deaths']].apply(pd.to_numeric, errors='coerce')\n",
    "CW_Merge = CW_Merge.rename(columns={'cases':'covid cases', 'deaths':'covid deaths'})"
   ]
  },
  {
   "cell_type": "code",
   "execution_count": null,
   "id": "513b054d",
   "metadata": {},
   "outputs": [],
   "source": [
    "# Creates  a list with the states with highest mean AQI's\n",
    "topAQI = pd.DataFrame(CW_Merge.groupby(['state'])['AQI'].mean().sort_values(ascending=False)[:10])\n",
    "topAQI_states = list(topAQI.reset_index()['state'])\n",
    "# Creates  a list with the states with lowest mean AQI's\n",
    "minAQI = pd.DataFrame(CW_Merge.groupby(['state'])['AQI'].mean().sort_values(ascending=False)[-10:])\n",
    "minAQI_states = list(minAQI.reset_index()['state'])"
   ]
  },
  {
   "cell_type": "code",
   "execution_count": null,
   "id": "a5eafa3e",
   "metadata": {},
   "outputs": [],
   "source": [
    "def statePlotter(state, query):\n",
    "    \"\"\" Query can be covid cases or covid deaths \"\"\"\n",
    "    df = CW_Merge\n",
    "    df = df[df['state'] == state]\n",
    "    # Create figure with secondary y-axis\n",
    "    fig = make_subplots(specs=[[{\"secondary_y\": True}]])\n",
    "\n",
    "    # Add traces\n",
    "    fig.add_trace(\n",
    "        go.Scatter(x=df['date'], \n",
    "                   y=df[query], \n",
    "                   name=query),\n",
    "        secondary_y=False,\n",
    "    )\n",
    "\n",
    "    fig.add_trace(\n",
    "        go.Scatter(x=df['date'], \n",
    "                   y=df['AQI'], \n",
    "                   name=\"AQI score\"),\n",
    "        secondary_y=True,\n",
    "    )\n",
    "\n",
    "    # Add figure title\n",
    "    fig.update_layout(\n",
    "        title_text=f\"Daily {query} and AQI scores in {state}\"\n",
    "    )\n",
    "\n",
    "    # Set x-axis title\n",
    "    fig.update_xaxes(title_text=\"<b>date<b>\")\n",
    "\n",
    "    # Set y-axes titles\n",
    "    fig.update_yaxes(title_text=\"<b>Covid cases</b>\", secondary_y=False)\n",
    "    fig.update_yaxes(title_text=\"<b>AQI score</b>\", secondary_y=True)\n",
    "\n",
    "    return fig\n",
    "\n",
    "# statePlotter('Ohio')\n",
    "\n",
    "state_list = list(CW_Merge['state'].unique())\n",
    "query = ['covid cases', 'covid deaths']\n",
    "\n",
    "select1 = pn.widgets.Select(name='State', options=state_list)\n",
    "select2 = pn.widgets.Select(name='Query', options=query)\n",
    "interact(statePlotter, state=select1, query=select2)"
   ]
  },
  {
   "cell_type": "markdown",
   "id": "755207f3",
   "metadata": {},
   "source": [
    "# To-do\n",
    "* Unify the PM2.5 file - OK\n",
    "* Get cases per month and average AQI values per month - OK\n",
    "* Select on only available dates (2020 Jan - 2021 Nov) - OK\n",
    "* Select most and less polluted states - OK\n",
    "* Find statistical test to observe difference between states of high and low pollution\n",
    "    * Convert values \n",
    "    * Good : 1-50\n",
    "    * Moderate : 50-100\n",
    "    * Unhealthy_sens : 101-150\n",
    "* Plot line chart with pollution and covid cases over the 2 year period for the main states"
   ]
  },
  {
   "cell_type": "code",
   "execution_count": null,
   "id": "f744d94e",
   "metadata": {},
   "outputs": [],
   "source": [
    "# # CW_Merge.loc[(CW_Merge['AQI'] <= 50),'AQI']='Hip-Hop'\n",
    "# df = CW_Merge\n",
    "# category = pd.cut(df['AQI'],bins=[0,50,100,150], labels=['Good','Moderate','Unhealthy'])\n",
    "# category\n",
    "CW_Merge.info()"
   ]
  },
  {
   "cell_type": "code",
   "execution_count": null,
   "id": "1846a6e9",
   "metadata": {},
   "outputs": [],
   "source": [
    "category = pd.cut(CW_Merge.AQI,bins=[0,50,100,150],labels=['Good','Moderate','Unhealthy'])\n",
    "CW_Merge.insert(3,'AQI_Category_1',category)"
   ]
  },
  {
   "cell_type": "code",
   "execution_count": null,
   "id": "4696fc4b",
   "metadata": {},
   "outputs": [],
   "source": [
    "# Creates a larger number of categories, \n",
    "category = pd.cut(CW_Merge.AQI,bins=[0,25,50,75,100,125],labels=['Good_l','Good_u',\n",
    "                                                              'Moderate_l','Moderate_u',\n",
    "                                                              'Unhealthy_l'])\n",
    "CW_Merge.insert(3,'AQI_Category_2',category)"
   ]
  },
  {
   "cell_type": "code",
   "execution_count": null,
   "id": "42ce831c",
   "metadata": {},
   "outputs": [],
   "source": [
    "import researchpy as rp\n",
    "import scipy.stats as stats\n",
    "\n",
    "df = CW_Merge\n",
    "# Removing the NaNs as the statistical test doesnt function with them\n",
    "df = df[~df['covid cases'].isna()] \n",
    "# # Gives a summary of the data\n",
    "print(rp.summary_cont(df['covid cases'].groupby(df['AQI_Category_1'])))\n",
    "\n",
    "stats.f_oneway(df['covid cases'][df['AQI_Category_1'] == 'Good'],\n",
    "               df['covid cases'][df['AQI_Category_1'] == 'Moderate'],\n",
    "               df['covid cases'][df['AQI_Category_1'] == 'Unhealthy'])"
   ]
  },
  {
   "cell_type": "code",
   "execution_count": null,
   "id": "b3a1a5ad",
   "metadata": {},
   "outputs": [],
   "source": [
    "print(rp.summary_cont(df['covid cases'].groupby(df['AQI_Category_2'])))\n",
    "# One-way ANOVA for relation between number of covid cases and air quality\n",
    "stats.f_oneway(df['covid cases'][df['AQI_Category_2'] == 'Good_l'],\n",
    "               df['covid cases'][df['AQI_Category_2'] == 'Good_u'],\n",
    "               df['covid cases'][df['AQI_Category_2'] == 'Moderate_l'],\n",
    "               df['covid cases'][df['AQI_Category_2'] == 'Moderate_u'],\n",
    "               df['covid cases'][df['AQI_Category_2'] == 'Unhealthy_l'])"
   ]
  },
  {
   "cell_type": "code",
   "execution_count": null,
   "id": "6465cee4",
   "metadata": {},
   "outputs": [],
   "source": [
    "fig = px.box(df, x='AQI_Category_2', y='covid cases', points=\"all\", title=f'Boxplot')\n",
    "fig.show()"
   ]
  },
  {
   "cell_type": "code",
   "execution_count": null,
   "id": "e0240849",
   "metadata": {},
   "outputs": [],
   "source": [
    "# import plotly.graph_objects as go\n",
    "\n",
    "# import pandas as pd\n",
    "\n",
    "# df = CW_Merge\n",
    "# fig = go.Figure()\n",
    "\n",
    "# AQI_Cats = ['Good_l','Good_u','Moderate_l','Moderate_u','Unhealthy_l']\n",
    "\n",
    "# for cat in AQI_Cats:\n",
    "#     fig.add_trace(go.Violin(x=df['AQI_Category_2'][df['AQI_Category_2'] == cat],\n",
    "#                             y=df['covid cases'][df['AQI_Category_2'] == cat],\n",
    "#                             name=cat,\n",
    "#                             box_visible=True,\n",
    "#                             meanline_visible=True))\n",
    "\n",
    "# fig.show()\n"
   ]
  },
  {
   "cell_type": "code",
   "execution_count": null,
   "id": "d7c5fff6",
   "metadata": {},
   "outputs": [],
   "source": [
    "import plotly.graph_objects as go\n",
    "\n",
    "import pandas as pd\n",
    "\n",
    "def violinist(query):\n",
    "    \"\"\" Query can be 'covid cases'or 'covid deaths'\"\"\"\n",
    "    df = CW_Merge\n",
    "    fig = go.Figure()\n",
    "\n",
    "    AQI_Cats = ['Good_l','Good_u','Moderate_l','Moderate_u','Unhealthy_l']\n",
    "    AQI_Cats_dict = {'Good_l':'Good lower','Good_u':'Good upper',\n",
    "                'Moderate_l':'Moderate lower','Moderate_u':'Moderate upper','Unhealthy_l':'Unhealthy lower'}\n",
    "\n",
    "    for cat in AQI_Cats:\n",
    "        fig.add_trace(go.Violin(x=df['AQI_Category_2'][df['AQI_Category_2'] == cat],\n",
    "                                y=df[query][df['AQI_Category_2'] == cat],\n",
    "                                name=AQI_Cats_dict[cat],\n",
    "                                box_visible=True,\n",
    "                                meanline_visible=True))\n",
    "\n",
    "    return fig\n",
    "\n",
    "violinist('covid cases')"
   ]
  },
  {
   "cell_type": "markdown",
   "id": "4e2dff8c",
   "metadata": {},
   "source": [
    "jitter\n",
    "boxplots pet group\n",
    "violin plot\n",
    "multivariate"
   ]
  }
 ],
 "metadata": {
  "kernelspec": {
   "display_name": "Python 3 (ipykernel)",
   "language": "python",
   "name": "python3"
  },
  "language_info": {
   "codemirror_mode": {
    "name": "ipython",
    "version": 3
   },
   "file_extension": ".py",
   "mimetype": "text/x-python",
   "name": "python",
   "nbconvert_exporter": "python",
   "pygments_lexer": "ipython3",
   "version": "3.8.12"
  }
 },
 "nbformat": 4,
 "nbformat_minor": 5
}
