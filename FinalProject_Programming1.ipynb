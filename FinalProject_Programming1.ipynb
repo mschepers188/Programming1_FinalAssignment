{
 "cells": [
  {
   "cell_type": "code",
   "execution_count": 1,
   "id": "2975f451",
   "metadata": {},
   "outputs": [],
   "source": [
    "# Importing necessary libraries\n",
    "import pandas as pd\n",
    "import requests\n",
    "from requests.auth import HTTPBasicAuth\n",
    "from zipfile import ZipFile\n",
    "import io\n",
    "import urllib3"
   ]
  },
  {
   "cell_type": "markdown",
   "id": "5da2dd07",
   "metadata": {},
   "source": [
    "# Literature\n",
    "https://agupubs.onlinelibrary.wiley.com/doi/10.1029/2021GH000383\n",
    "The above link associates the air quality with covid cases in Mumbai, India"
   ]
  },
  {
   "cell_type": "code",
   "execution_count": 2,
   "id": "dcc972b2",
   "metadata": {},
   "outputs": [],
   "source": [
    "# Disables the warning when downloading\n",
    "urllib3.disable_warnings(urllib3.exceptions.InsecureRequestWarning)\n",
    "\n",
    "def zipped_downloader(url):\n",
    "    \"\"\" Downloads the files necessary for the analysis, unzips and creates a pandas dataframe \"\"\"\n",
    "    \n",
    "    response = requests.get(url, auth=HTTPBasicAuth('user', 'pass'), stream=True, verify=False)\n",
    "    with ZipFile(io.BytesIO(response.content)) as myzip: # Unzips the file\n",
    "        with myzip.open(myzip.namelist()[0]) as myfile: # Open first file in folder\n",
    "            df = pd.read_csv(myfile) # Reads csv and creates a pandas dataframe\n",
    "            return df      \n",
    "\n",
    "# Download of PM2.5 FRM/FEM Mass (88101) from 'aqs.epa.gov'\n",
    "PM2_5_Mass_2020 = zipped_downloader('https://aqs.epa.gov/aqsweb/airdata/daily_88101_2020.zip')\n",
    "PM2_5_Mass_2021 = zipped_downloader('https://aqs.epa.gov/aqsweb/airdata/daily_88101_2021.zip')\n",
    "# Downloads nytimes covid-19 data\n",
    "covid19_usa = pd.read_csv('https://raw.githubusercontent.com/nytimes/covid-19-data/master/us-states.csv')"
   ]
  },
  {
   "cell_type": "code",
   "execution_count": 3,
   "id": "e7d6ff70",
   "metadata": {},
   "outputs": [],
   "source": [
    "# Select only the columns of interest\n",
    "PM2_5_Mass_2021 = PM2_5_Mass_2021[['State Name', 'Date Local', 'AQI']]\n",
    "PM2_5_Mass_2020 = PM2_5_Mass_2020[['State Name', 'Date Local', 'AQI']]\n",
    "covid19_usa = covid19_usa.drop(columns=['fips'])"
   ]
  },
  {
   "cell_type": "code",
   "execution_count": 4,
   "id": "8edba432",
   "metadata": {},
   "outputs": [],
   "source": [
    "# Set columns to correct data type\n",
    "PM2_5_Mass_2020['Date Local'] = pd.to_datetime(PM2_5_Mass_2020['Date Local'])\n",
    "PM2_5_Mass_2021['Date Local'] = pd.to_datetime(PM2_5_Mass_2021['Date Local'])\n",
    "covid19_usa['date'] = pd.to_datetime(covid19_usa['date'])"
   ]
  },
  {
   "cell_type": "code",
   "execution_count": 5,
   "id": "869f131e",
   "metadata": {},
   "outputs": [],
   "source": [
    "# No missing data for the selected columns in the covid dataset\n",
    "# Both air quality files have several rows with missing data\n",
    "\n",
    "# The rows with NaN's are dropped\n",
    "PM2_5_Mass_2020 = PM2_5_Mass_2020.dropna()\n",
    "PM2_5_Mass_2021 = PM2_5_Mass_2021.dropna()"
   ]
  },
  {
   "cell_type": "code",
   "execution_count": 6,
   "id": "f55a9147",
   "metadata": {},
   "outputs": [
    {
     "name": "stdout",
     "output_type": "stream",
     "text": [
      "date      0\n",
      "state     0\n",
      "cases     0\n",
      "deaths    0\n",
      "dtype: int64\n",
      "State Name    0\n",
      "Date Local    0\n",
      "AQI           0\n",
      "dtype: int64\n",
      "State Name    0\n",
      "Date Local    0\n",
      "AQI           0\n",
      "dtype: int64\n"
     ]
    }
   ],
   "source": [
    "# The missing data was removed without problem\n",
    "print(covid19_usa.isnull().sum())\n",
    "print(PM2_5_Mass_2020.isnull().sum())\n",
    "print(PM2_5_Mass_2021.isnull().sum())"
   ]
  },
  {
   "cell_type": "code",
   "execution_count": 20,
   "id": "4a00625c",
   "metadata": {},
   "outputs": [
    {
     "name": "stdout",
     "output_type": "stream",
     "text": [
      "Covid, Begin:2020-01-21 00:00:00, End:2022-01-13 00:00:00\n",
      "PM2.5 Mass 2020, Begin:2020-01-01 00:00:00, End:2020-12-31 00:00:00\n",
      "PM2.5 Mass 2021, Begin:2021-01-01 00:00:00, End:2021-11-10 00:00:00\n",
      "The covid dataset spans from 2020-2022, the PN2.5 mass data is from 2020 until nov 2021\n"
     ]
    }
   ],
   "source": [
    "print(f\"Covid, Begin:{covid19_usa['date'].min()}, End:{covid19_usa['date'].max()}\")\n",
    "print(f\"PM2.5 Mass 2020, Begin:{PM2_5_Mass_2020['Date Local'].min()}, End:{PM2_5_Mass_2020['Date Local'].max()}\")\n",
    "print(f\"PM2.5 Mass 2021, Begin:{PM2_5_Mass_2021['Date Local'].min()}, End:{PM2_5_Mass_2021['Date Local'].max()}\")\n",
    "print('The covid dataset spans from 2020-2022, the PN2.5 mass data is from 2020 until nov 2021')"
   ]
  },
  {
   "cell_type": "markdown",
   "id": "d395c6cf",
   "metadata": {},
   "source": [
    "# To-do\n",
    "* Unify the PM2.5 file\n",
    "* Get cases per month and average AQI values per month\n",
    "* Select on only available dates (2020 Jan - 2021 Nov)\n",
    "* Select most and less pulluted states\n",
    "* Find statistical test to observe difference between states of high and low pollution\n",
    "* Plot line chart with pollution and covid cases over the 2 year period for the main states"
   ]
  }
 ],
 "metadata": {
  "kernelspec": {
   "display_name": "Python 3 (ipykernel)",
   "language": "python",
   "name": "python3"
  },
  "language_info": {
   "codemirror_mode": {
    "name": "ipython",
    "version": 3
   },
   "file_extension": ".py",
   "mimetype": "text/x-python",
   "name": "python",
   "nbconvert_exporter": "python",
   "pygments_lexer": "ipython3",
   "version": "3.8.12"
  }
 },
 "nbformat": 4,
 "nbformat_minor": 5
}
